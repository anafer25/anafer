{
  "cells": [
    {
      "cell_type": "markdown",
      "metadata": {
        "id": "view-in-github",
        "colab_type": "text"
      },
      "source": [
        "<a href=\"https://colab.research.google.com/github/anafer25/anafer/blob/main/349assignment1.ipynb\" target=\"_parent\"><img src=\"https://colab.research.google.com/assets/colab-badge.svg\" alt=\"Open In Colab\"/></a>"
      ]
    },
    {
      "cell_type": "markdown",
      "metadata": {
        "id": "-mbRwDtMHi3d"
      },
      "source": [
        "<center>\n",
        "\n",
        "**Physics 349 – Assignment 1**<br>\n",
        "**Functions and Object-Oriented Analysis**<br>\n",
        "**Due date and time: 11:59PM on February 3, 2025**"
      ]
    },
    {
      "cell_type": "markdown",
      "metadata": {
        "id": "ppGlJczsKnSM"
      },
      "source": [
        "This first assignment is due on February 3. However, since there were some delays this week because of administrative issues, a second assignment due on February 10 might be distributed at the end of next week.\n",
        "\n",
        "You are **required** to upload this and all other assignments to Google Colab and solve the problems within Colab to ensure consistency among all the submissions.  Google Colab is an extremely convenient platform, especially for machine learning so it is highly advantageous to familiarize yourself with the environment.  Colab will automatically inspect each question and suggest appropriate code. You should generally accept these suggestions since they will decrease the amount of typing involved, but you will generally need to edit the resulting program, which will typically be somewhat at variance with the problem statement.\n",
        "\n",
        "Colab can be found at https://colab.research.google.com/notebooks/intro.ipynb or through a search engine.  Choose File -> Upload notebook to upload this notebook and then input your code directly into the notebook.\n",
        "\n",
        "[Google Colab allows you to switch to a GPU or TPU through the Connect menu option at the upper right-hand corner, however since you are using the free platform, doing so will limit the (undetermined) amount of time you can run programs before your program is presumably halted (this is not a consideration for the short runtimes associated with the assignments in this course).]\n",
        "\n",
        "Once complete, download the completed notebook as a NOTEBOOK file (.ipynb) containing both the code and your results. To download your notebook to your computer, choose File -> Download -> Download .ipynb from the menu bar. Then upload your solutions to Learn to submit the assignment."
      ]
    },
    {
      "cell_type": "markdown",
      "metadata": {
        "id": "DRMiZ4-rmOKf"
      },
      "source": [
        "### [10 Marks] Problem 1\n",
        "\n",
        "A continued fraction expansion for the square root of 2 is given by\n",
        "\n",
        "$\\sqrt 2 - 1 = \\frac{2-1}{\\sqrt 2 + 1} = \\frac{1}{1+\\sqrt 2 } = \\frac{1}{2 + (\\sqrt{2} - 1) } \\approx \\frac{1}{2 + \\frac{1}{2 + \\frac{1}{2 + \\frac{1}{2 + ...}}}}$\n",
        "\n",
        "Terminate this series by inserting a zero in the place of the ellipsis (...) after *n* fractional terms and develop a program employing recursive functions (e.g. the function should call itself between 1 and 10 times) that writes out the value of the square root of 2 as a function of *n* for values of *n* between 0 and 9.  To do this, generate a **Squareroot** class that possesses internal class variables **iCall_number** and **iArgument** which store the number of times the function is called and the initial value of the function argument, respectively.\n",
        "\n",
        "An example of a recursive function written as a class is given below for the factorial function.  This procedure implements the formula $n! = n(n-1)!, n(0) = 1$ multiple times.\n",
        "\n",
        "\n"
      ]
    },
    {
      "cell_type": "code",
      "execution_count": null,
      "metadata": {
        "colab": {
          "base_uri": "https://localhost:8080/"
        },
        "id": "3PCXPP6DQKTU",
        "outputId": "45e0a9e4-addb-40a3-958a-dbd980ffa9db"
      },
      "outputs": [
        {
          "output_type": "stream",
          "name": "stdout",
          "text": [
            "120\n"
          ]
        }
      ],
      "source": [
        "class Factorial:\n",
        "    def __init__(self, n):\n",
        "        self.iArgument = n + 1\n",
        "    def factorial(self):\n",
        "      if self.iArgument == 1:\n",
        "          return 1\n",
        "      else:\n",
        "          self.iArgument = self.iArgument - 1\n",
        "          return self.iArgument * self.factorial( )\n",
        "\n",
        "Factorial1 = Factorial(5)\n",
        "print ( Factorial1.factorial( ) )"
      ]
    },
    {
      "cell_type": "markdown",
      "metadata": {
        "id": "ambVrESmQGsU"
      },
      "source": [
        "Enter your code below:\n",
        "NOTE: the first and last steps in the recursion are different, in the first step you should return 1 + the accumulated value after N - 1 steps, and in the last step you should return 0.  Therefore it is expedient to save the value passed to the constructor (__init__ function) in two instance variables, only one of which is decremented with every call of the class member function **square_root( )** so that you can treat both the first and last recursion call separately.  Further, ensure that your square root function yields $0!=1$."
      ]
    },
    {
      "cell_type": "code",
      "execution_count": 30,
      "metadata": {
        "id": "Gz3Ea9aoQmUm",
        "colab": {
          "base_uri": "https://localhost:8080/"
        },
        "outputId": "574ca3fe-2e84-474d-8c0b-54979945a267"
      },
      "outputs": [
        {
          "output_type": "stream",
          "name": "stdout",
          "text": [
            "+------+-----------------+---------+\n",
            "|   aN |   Approximation |   Calls |\n",
            "+======+=================+=========+\n",
            "|    0 |         2       |       1 |\n",
            "+------+-----------------+---------+\n",
            "|    1 |         1.33333 |       2 |\n",
            "+------+-----------------+---------+\n",
            "|    2 |         1.42857 |       3 |\n",
            "+------+-----------------+---------+\n",
            "|    3 |         1.41176 |       4 |\n",
            "+------+-----------------+---------+\n",
            "|    4 |         1.41463 |       5 |\n",
            "+------+-----------------+---------+\n",
            "|    5 |         1.41414 |       6 |\n",
            "+------+-----------------+---------+\n",
            "|    6 |         1.41423 |       7 |\n",
            "+------+-----------------+---------+\n",
            "|    7 |         1.41421 |       8 |\n",
            "+------+-----------------+---------+\n",
            "|    8 |         1.41421 |       9 |\n",
            "+------+-----------------+---------+\n",
            "|    9 |         1.41421 |      10 |\n",
            "+------+-----------------+---------+\n"
          ]
        }
      ],
      "source": [
        "### ENTER YOUR CODE BELOW\n",
        "\n",
        "from tabulate import tabulate\n",
        "\n",
        "class SquareRoot:\n",
        "  ''' This function will track the times that recursive function:\n",
        "  iCall_number is called and stores the starting value of\n",
        "  the function argument: iArgument. '''\n",
        "  def __init__(self, aN):                   # aN is the argument and self the object\n",
        "    self.iArgument = self.iN = aN           # initialize instance variable iArgument and iN\n",
        "    self.iCall_number = 0                   # track number of recursive calls\n",
        "\n",
        "  def square_root(self, aN):\n",
        "    self.iCall_number += 1                  # tracking\n",
        "    if aN == 0:                             # base case\n",
        "      return 1\n",
        "    else:\n",
        "      return 2 + ( 1 / self.square_root( aN - 1 ) )     # recursion\n",
        "\n",
        "  def calculate(self):\n",
        "    return 1 + ( 1 / self.square_root( self.iArgument ) )  # final answer\n",
        "\n",
        "# using tabulate to organize answer\n",
        "table_data = []                              # global variable\n",
        "\n",
        "for aN in range(0, 10):\n",
        "  SquareRoot1 = SquareRoot(aN)\n",
        "  answer = SquareRoot1.calculate()\n",
        "  table_data.append([aN, answer, SquareRoot1.iCall_number])\n",
        "\n",
        "headers = [\"aN\", \"Approximation\", \"Calls\"]\n",
        "print(tabulate(table_data, headers=headers, tablefmt=\"grid\"))\n",
        "\n"
      ]
    },
    {
      "cell_type": "markdown",
      "metadata": {
        "id": "ixjmT-xdMVrd"
      },
      "source": [
        "### [10 Marks] Problem 2\n",
        "\n",
        "In a semiconductor, the concentration of free electrons, *n*, and the concentration of holes (atomic sites in the lattice that are missing an electron), *p*, are related according to the bimolecular recombination law $np = n_i^2$ where for undoped Si the intrinsic carrier density, $n_i$, at room temperature equals $1.5\\times 10^{10}$.  \n",
        "\n",
        "Write a **Semiconductor** class with three internal class variables **iElectronDensity**, **iHoleDensity** and **iIntrinsicCarrierDensity**.   \n",
        "\n",
        "Provide get and set member functions for the first two of these variables (the names of the functions are provided in the skeleton code below) but ensure that **IntrinsicCarrierDensity** is read-only.  Incorporate the recombination law into *both of the set member functions so that both the electron and hole densities are automatically set when only one of these two quantities is specified*.  Also provide a **print( )** internal class member function that prints (e.g. displays in the output cell of the Python notebook) the values of the intrinsic, free electron and free hole densities.  This is a standard design pattern.\n",
        "\n",
        "Provide as well a one-element constructor (**__init__** function) that only sets the intrinsic carrier density.  \n",
        "\n",
        "Test your code by writing a program that instantates (creates) a **Silicon** semiconductor object with the intrinsic carrier density indicated above.  Then set the free electron density in this object to $1.0 \\times 10^{10} cm^{-3}$ and employ the **print( )** class member function to display the values of all three internal variables of the object.  "
      ]
    },
    {
      "cell_type": "code",
      "execution_count": 32,
      "metadata": {
        "id": "MG5uftdQN-XM",
        "colab": {
          "base_uri": "https://localhost:8080/"
        },
        "outputId": "4073cf96-2e59-477c-8283-18d21216d12e"
      },
      "outputs": [
        {
          "output_type": "stream",
          "name": "stdout",
          "text": [
            "Intrinsic Carrier Density (ni): 1.50e+10 cm^-3\n",
            "Electron Density (n): 1.00e+10 cm^-3\n",
            "Free Hole Density (p): 2.25e+10 cm^-3\n",
            "\n"
          ]
        }
      ],
      "source": [
        "### ENTER YOUR CODE HERE\n",
        "\n",
        "### Code the arguments and bodies of these class internal member functions\n",
        "### Only the names of the class and the functions are provided.\n",
        "\n",
        "class Semiconductor:\n",
        "  def __init__(self, iIntrinsicCarrierDensity):\n",
        "    ''' Initializes the semiconductor with\n",
        "    the intrinsic carrier density. '''\n",
        "    self.__iIntrinsicCarrierDensity = iIntrinsicCarrierDensity    # private; read-only\n",
        "    self.__iElectronDensity = 0.0                                # initialize electron density\n",
        "    self.__iHoleDensity = 0.0                                   # initialize hole density\n",
        "\n",
        "  def getIntrinsicCarrierDensity(self):\n",
        "    '''Read only'''\n",
        "    return self.__iIntrinsicCarrierDensity\n",
        "\n",
        "  def setElectronDensity(self, electron_density):               # set functions\n",
        "    self.__iElectronDensity = electron_density\n",
        "    # update hole density with biomolecular recombination law\n",
        "    self.__iHoleDensity = (self.__iIntrinsicCarrierDensity ** 2) / self.__iElectronDensity\n",
        "\n",
        "  def setHoleDensity(self, hole_density):\n",
        "    self.__iHoleDensity = hole_density\n",
        "    # update electron density with biomolecular recombination law\n",
        "    self.__iElectronDensity = (self.__iIntrinsicCarrierDensity ** 2) / self.__iHoleDensity\n",
        "\n",
        "  def getElectronDensity(self):                               # get functions\n",
        "    return self.__iElectronDensity\n",
        "\n",
        "  def getHoleDensity(self):\n",
        "    return self.__iHoleDensity\n",
        "\n",
        "  def print(self):\n",
        "    print(f\"Intrinsic Carrier Density (ni): {self.getIntrinsicCarrierDensity():.2e} cm^-3\") # .2e: scientific notation 2 decimal places\n",
        "    print(f\"Electron Density (n): {self.getElectronDensity():.2e} cm^-3\")\n",
        "    print(f\"Free Hole Density (p): {self.getHoleDensity():.2e} cm^-3\")\n",
        "\n",
        "### Write below the code that generates and manipulates a Silicon object as stated in the problem\n",
        "\n",
        "# test\n",
        "if __name__ == \"__main__\": # Intrinsic carrier density for Silicon at room temperature\n",
        "  ni = 1.5e10 # cm^-3\n",
        "  silicon = Semiconductor(ni)  # silicon semiconductor object\n",
        "  silicon.setElectronDensity(1.0e10) # cm^-3\n",
        "  silicon.print()\n",
        "\n",
        "\n"
      ]
    },
    {
      "cell_type": "markdown",
      "metadata": {
        "id": "14tnxojrPsXm"
      },
      "source": []
    },
    {
      "cell_type": "markdown",
      "metadata": {
        "id": "dtGMu8r1OCME"
      },
      "source": [
        "### [10 Marks] Problem 3\n",
        "\n",
        "Write a program that contains a class **Rectangle** with two private double precision instance members **iLength** and **iWidth**, public set and get member functions for these two members, a two-argument constructor that sets the length and width to any two user-specified values and a function **area( )** that returns the area of the rectangle object by employing its two get member functions.  \n",
        "\n",
        "Then write a function that creates a **Rectangle** with a length of 10 and width of 20, computes its area and outputs the result to the terminal (here the Python notebook output cell)."
      ]
    },
    {
      "cell_type": "code",
      "execution_count": null,
      "metadata": {
        "id": "3lCxX34jOS4U",
        "colab": {
          "base_uri": "https://localhost:8080/"
        },
        "outputId": "4a902e33-c765-4439-a690-d207028f64b3"
      },
      "outputs": [
        {
          "output_type": "stream",
          "name": "stdout",
          "text": [
            "Enter length: 5\n",
            "Enter width: 5\n",
            "Area of the rectangle: 25.0\n",
            "\n",
            "Area of the rectangle of length 10 and width 20: 200\n"
          ]
        }
      ],
      "source": [
        "### ENTER YOUR CODE\n",
        "\n",
        "class Rectangle:\n",
        "  def __init__(self, length, width):\n",
        "    ''' This constructor initializes length and width'''\n",
        "    self.__iLength = length                     # private variable for length\n",
        "    self.__iWidth = width                       # private variable for width\n",
        "\n",
        "  def setLength(self, length):                  # set functions\n",
        "    self.__iLength = length\n",
        "\n",
        "  def setWidth(self, width):\n",
        "    self.__iWidth = width\n",
        "\n",
        "  def getLength(self):                         # get functions\n",
        "    return self.__iLength\n",
        "\n",
        "  def getWidth(self):\n",
        "    return self.__iWidth\n",
        "\n",
        "  def area(self):\n",
        "    ''' This function takes the two member get functions and\n",
        "    calculates the area of the rectangle. '''\n",
        "    return self.getLength() * self.getWidth()\n",
        "\n",
        "# example of use\n",
        "if __name__ == \"__main__\":\n",
        "  # user's input for length and width (float for decimal numbers)\n",
        "  length = float(input(\"Enter length: \"))\n",
        "  width = float(input(\"Enter width: \"))\n",
        "\n",
        "\n",
        "  rectangle = Rectangle(length, width)           # rectangle object\n",
        "  print(\"Area of the rectangle:\", rectangle.area())\n",
        "\n",
        "\n",
        "def created():\n",
        "    '''\n",
        "     Creates a rectangle with length: 10 and width: 20,\n",
        "    computes area and prints result\n",
        "    '''\n",
        "    rectangle = Rectangle(10, 20)\n",
        "    print()\n",
        "    print(\"Area of the rectangle of length 10 and width 20:\", rectangle.area())\n",
        "\n",
        "if __name__ == \"__main__\":\n",
        "    created()\n",
        "\n"
      ]
    }
  ],
  "metadata": {
    "colab": {
      "provenance": [],
      "include_colab_link": true
    },
    "kernelspec": {
      "display_name": "Python 3 (ipykernel)",
      "language": "python",
      "name": "python3"
    },
    "language_info": {
      "codemirror_mode": {
        "name": "ipython",
        "version": 3
      },
      "file_extension": ".py",
      "mimetype": "text/x-python",
      "name": "python",
      "nbconvert_exporter": "python",
      "pygments_lexer": "ipython3",
      "version": "3.12.7"
    }
  },
  "nbformat": 4,
  "nbformat_minor": 0
}